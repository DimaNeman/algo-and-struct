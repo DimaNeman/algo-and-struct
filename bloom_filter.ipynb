{
 "cells": [
  {
   "cell_type": "markdown",
   "metadata": {},
   "source": [
    "# Bloom Filter - probabilistic data structure\n",
    "---\n",
    "\n",
    "- https://en.wikipedia.org/wiki/Bloom_filter\n",
    "- Complexity is constant. Memory is one number."
   ]
  },
  {
   "cell_type": "code",
   "execution_count": 1,
   "metadata": {},
   "outputs": [],
   "source": [
    "class bloomFilter:\n",
    "\n",
    "    def __init__(self, size = 1000, hashFunctions = None):\n",
    "\n",
    "        self.bits = 0\n",
    "        self.size = size\n",
    "        if hashFunctions is None:\n",
    "            self.k = 1\n",
    "            self.hashFunctions = [lambda elem, size: hash(elem) % size]\n",
    "        else:\n",
    "            self.k = len(hashFunctions)\n",
    "            self.hashFunchtions = hashFunctions\n",
    "            \n",
    "    def add(self, value):\n",
    "        for hf in self.hashFunctions:\n",
    "            self.bits |= 1 << hf(value, self.size)\n",
    "            \n",
    "    def __contains__(self, value):\n",
    "        for hf in self.hashFunctions:\n",
    "            if self.bits & 1 << hf(value, self.size) == 0:\n",
    "                return False\n",
    "        return True"
   ]
  },
  {
   "cell_type": "code",
   "execution_count": 2,
   "metadata": {},
   "outputs": [
    {
     "name": "stdout",
     "output_type": "stream",
     "text": [
      "True\n",
      "False\n",
      "True\n"
     ]
    }
   ],
   "source": [
    "bf = bloomFilter()\n",
    "bf.add('dog')\n",
    "bf.add('cow')\n",
    "print('dog' in bf)\n",
    "print('cat' in bf)\n",
    "print('cow' in bf)"
   ]
  },
  {
   "cell_type": "code",
   "execution_count": null,
   "metadata": {},
   "outputs": [],
   "source": []
  }
 ],
 "metadata": {
  "kernelspec": {
   "display_name": "Python 3",
   "language": "python",
   "name": "python3"
  },
  "language_info": {
   "codemirror_mode": {
    "name": "ipython",
    "version": 3
   },
   "file_extension": ".py",
   "mimetype": "text/x-python",
   "name": "python",
   "nbconvert_exporter": "python",
   "pygments_lexer": "ipython3",
   "version": "3.7.3"
  }
 },
 "nbformat": 4,
 "nbformat_minor": 2
}
