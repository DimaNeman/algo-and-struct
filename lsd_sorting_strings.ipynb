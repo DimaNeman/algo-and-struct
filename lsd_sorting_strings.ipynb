{
 "cells": [
  {
   "cell_type": "markdown",
   "metadata": {},
   "source": [
    "# LSD (least significant digit) - sorting for fixed length strings\n",
    "---\n",
    "\n",
    "- It's a sorting algorithm on strings by LSD. All string must be the same length.\n",
    "- Complexity is ~7WN + 3WR. Memory is N + R"
   ]
  },
  {
   "cell_type": "code",
   "execution_count": 1,
   "metadata": {},
   "outputs": [],
   "source": [
    "def lsd_sort(sarray):\n",
    "    assert check_same_length(sarray), \"strings must be the same length\"\n",
    "    \n",
    "    n = len(sarray)\n",
    "    w = len(sarray[0]) # size of length\n",
    "    R = 256 # ASCII alphabet size\n",
    "    aux = [None] * n\n",
    "    \n",
    "    # it takes w times a counting-sort.\n",
    "    # https://en.wikipedia.org/wiki/Counting_sort\n",
    "    for digit in range(w - 1, -1, -1):\n",
    "        count = [0] * (R + 1)\n",
    "        \n",
    "        # count digits\n",
    "        for i in range(n):\n",
    "            count[ord(sarray[i][digit]) + 1] += 1\n",
    "        \n",
    "        for r in range(R):\n",
    "            count[r + 1] += count[r]\n",
    "        \n",
    "        # main work - counting-sort\n",
    "        for i in range(n):\n",
    "            idx = count[ord(sarray[i][digit])]\n",
    "            aux[idx] = sarray[i]\n",
    "            count[ord(sarray[i][digit])] += 1\n",
    "        \n",
    "        # writes result of the counting sort\n",
    "        for i in range(n):\n",
    "            sarray[i] = aux[i]\n",
    "            \n",
    "            \n",
    "\n",
    "def check_same_length(sarray):\n",
    "    lfe = len(sarray[0])\n",
    "    n = len(sarray)\n",
    "    i = 1\n",
    "    check = True\n",
    "    while i < n:\n",
    "        if lfe != len(sarray[i]):\n",
    "            check = False\n",
    "            break\n",
    "        i += 1\n",
    "    return check"
   ]
  },
  {
   "cell_type": "code",
   "execution_count": 2,
   "metadata": {},
   "outputs": [
    {
     "data": {
      "text/plain": [
       "['asd', 'ask', 'dsa', 'kna', 'sda']"
      ]
     },
     "execution_count": 2,
     "metadata": {},
     "output_type": "execute_result"
    }
   ],
   "source": [
    "try_it = [\"kna\", \"asd\", \"dsa\", \"ask\", \"sda\"]\n",
    "lsd_sort(try_it)\n",
    "try_it"
   ]
  },
  {
   "cell_type": "markdown",
   "metadata": {},
   "source": [
    "#### test time\n",
    "---\n",
    "\n",
    "python library sorting >>> corrent lsd"
   ]
  },
  {
   "cell_type": "code",
   "execution_count": 3,
   "metadata": {},
   "outputs": [],
   "source": [
    "import random\n",
    "\n",
    "def create_random_str(length_string = 7):\n",
    "    s = \"\"\n",
    "    for i in range(length_string):\n",
    "        s += (chr(random.randint(97,123)))\n",
    "    return s"
   ]
  },
  {
   "cell_type": "code",
   "execution_count": 4,
   "metadata": {},
   "outputs": [],
   "source": [
    "test_it = [create_random_str(8) for i in range(1024)]"
   ]
  },
  {
   "cell_type": "code",
   "execution_count": 5,
   "metadata": {},
   "outputs": [
    {
     "name": "stdout",
     "output_type": "stream",
     "text": [
      "438 µs ± 11.7 µs per loop (mean ± std. dev. of 7 runs, 1000 loops each)\n"
     ]
    }
   ],
   "source": [
    "%%timeit\n",
    "sorted(test_it)"
   ]
  },
  {
   "cell_type": "code",
   "execution_count": 6,
   "metadata": {},
   "outputs": [
    {
     "name": "stdout",
     "output_type": "stream",
     "text": [
      "21.7 ms ± 1.57 ms per loop (mean ± std. dev. of 7 runs, 10 loops each)\n"
     ]
    }
   ],
   "source": [
    "%%timeit\n",
    "lsd_sort(test_it)"
   ]
  },
  {
   "cell_type": "code",
   "execution_count": null,
   "metadata": {},
   "outputs": [],
   "source": []
  }
 ],
 "metadata": {
  "kernelspec": {
   "display_name": "Python 3",
   "language": "python",
   "name": "python3"
  },
  "language_info": {
   "codemirror_mode": {
    "name": "ipython",
    "version": 3
   },
   "file_extension": ".py",
   "mimetype": "text/x-python",
   "name": "python",
   "nbconvert_exporter": "python",
   "pygments_lexer": "ipython3",
   "version": "3.7.3"
  }
 },
 "nbformat": 4,
 "nbformat_minor": 2
}
